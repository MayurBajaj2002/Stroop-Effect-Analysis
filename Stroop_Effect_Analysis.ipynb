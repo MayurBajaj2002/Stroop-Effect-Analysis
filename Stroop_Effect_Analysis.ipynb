{
 "cells": [
  {
   "cell_type": "markdown",
   "metadata": {},
   "source": [
    "# Analyzing a neurological/ perceptual phenomenon- The Stroop Effect\n",
    "\n",
    "In a Stroop task, participants are presented with a list of words, with each word displayed in a color of ink. The participant’s task is to say out loud the color of the ink in which the word is printed. The task has two conditions: a congruent words condition, and an incongruent words condition. In the congruent words condition, the words being displayed are color words whose names match the colors in which they are printed. In the incongruent words condition, the words displayed are color words whose names do not match the colors in which they are printed. In each case, we measure the time it takes to name the ink colors in equally-sized lists. Each participant will go through and record a time from each condition.\n",
    "You can check out more information about the Stroop Effect [here](https://en.wikipedia.org/wiki/Stroop_effect)\n",
    "\n",
    "## Aim \n",
    "\n",
    "To analyze the dataset on participants of the Stroop test, test hypotheses, make conclusions and report descriptive statistics in order to answer certain questions."
   ]
  },
  {
   "cell_type": "code",
   "execution_count": 2,
   "metadata": {},
   "outputs": [],
   "source": [
    "# Necessary packages imported\n",
    "import pandas as pd\n",
    "import matplotlib.pyplot as plt\n",
    "import numpy as np\n",
    "import seaborn as sb\n",
    "from colorama import Fore, Style"
   ]
  },
  {
   "cell_type": "code",
   "execution_count": 3,
   "metadata": {},
   "outputs": [
    {
     "name": "stdout",
     "output_type": "stream",
     "text": [
      "<class 'pandas.core.frame.DataFrame'>\n",
      "RangeIndex: 24 entries, 0 to 23\n",
      "Data columns (total 2 columns):\n",
      "Congruent      24 non-null float64\n",
      "Incongruent    24 non-null float64\n",
      "dtypes: float64(2)\n",
      "memory usage: 464.0 bytes\n",
      "None\n",
      "\n",
      "Number of NaN values:  0\n",
      "\n",
      " Index(['Congruent', 'Incongruent'], dtype='object')\n"
     ]
    },
    {
     "data": {
      "text/html": [
       "<div>\n",
       "<style scoped>\n",
       "    .dataframe tbody tr th:only-of-type {\n",
       "        vertical-align: middle;\n",
       "    }\n",
       "\n",
       "    .dataframe tbody tr th {\n",
       "        vertical-align: top;\n",
       "    }\n",
       "\n",
       "    .dataframe thead th {\n",
       "        text-align: right;\n",
       "    }\n",
       "</style>\n",
       "<table border=\"1\" class=\"dataframe\">\n",
       "  <thead>\n",
       "    <tr style=\"text-align: right;\">\n",
       "      <th></th>\n",
       "      <th>Congruent</th>\n",
       "      <th>Incongruent</th>\n",
       "    </tr>\n",
       "  </thead>\n",
       "  <tbody>\n",
       "    <tr>\n",
       "      <th>Test 1</th>\n",
       "      <td>12.079</td>\n",
       "      <td>19.278</td>\n",
       "    </tr>\n",
       "    <tr>\n",
       "      <th>Test 2</th>\n",
       "      <td>16.791</td>\n",
       "      <td>18.741</td>\n",
       "    </tr>\n",
       "    <tr>\n",
       "      <th>Test 3</th>\n",
       "      <td>9.564</td>\n",
       "      <td>21.214</td>\n",
       "    </tr>\n",
       "    <tr>\n",
       "      <th>Test 4</th>\n",
       "      <td>8.630</td>\n",
       "      <td>15.687</td>\n",
       "    </tr>\n",
       "    <tr>\n",
       "      <th>Test 5</th>\n",
       "      <td>14.669</td>\n",
       "      <td>22.803</td>\n",
       "    </tr>\n",
       "    <tr>\n",
       "      <th>Test 6</th>\n",
       "      <td>12.238</td>\n",
       "      <td>20.878</td>\n",
       "    </tr>\n",
       "    <tr>\n",
       "      <th>Test 7</th>\n",
       "      <td>14.692</td>\n",
       "      <td>24.572</td>\n",
       "    </tr>\n",
       "    <tr>\n",
       "      <th>Test 8</th>\n",
       "      <td>8.987</td>\n",
       "      <td>17.394</td>\n",
       "    </tr>\n",
       "    <tr>\n",
       "      <th>Test 9</th>\n",
       "      <td>9.401</td>\n",
       "      <td>20.762</td>\n",
       "    </tr>\n",
       "    <tr>\n",
       "      <th>Test 10</th>\n",
       "      <td>14.480</td>\n",
       "      <td>26.282</td>\n",
       "    </tr>\n",
       "    <tr>\n",
       "      <th>Test 11</th>\n",
       "      <td>22.328</td>\n",
       "      <td>24.524</td>\n",
       "    </tr>\n",
       "    <tr>\n",
       "      <th>Test 12</th>\n",
       "      <td>15.298</td>\n",
       "      <td>18.644</td>\n",
       "    </tr>\n",
       "    <tr>\n",
       "      <th>Test 13</th>\n",
       "      <td>15.073</td>\n",
       "      <td>17.510</td>\n",
       "    </tr>\n",
       "    <tr>\n",
       "      <th>Test 14</th>\n",
       "      <td>16.929</td>\n",
       "      <td>20.330</td>\n",
       "    </tr>\n",
       "    <tr>\n",
       "      <th>Test 15</th>\n",
       "      <td>18.200</td>\n",
       "      <td>35.255</td>\n",
       "    </tr>\n",
       "    <tr>\n",
       "      <th>Test 16</th>\n",
       "      <td>12.130</td>\n",
       "      <td>22.158</td>\n",
       "    </tr>\n",
       "    <tr>\n",
       "      <th>Test 17</th>\n",
       "      <td>18.495</td>\n",
       "      <td>25.139</td>\n",
       "    </tr>\n",
       "    <tr>\n",
       "      <th>Test 18</th>\n",
       "      <td>10.639</td>\n",
       "      <td>20.429</td>\n",
       "    </tr>\n",
       "    <tr>\n",
       "      <th>Test 19</th>\n",
       "      <td>11.344</td>\n",
       "      <td>17.425</td>\n",
       "    </tr>\n",
       "    <tr>\n",
       "      <th>Test 20</th>\n",
       "      <td>12.369</td>\n",
       "      <td>34.288</td>\n",
       "    </tr>\n",
       "    <tr>\n",
       "      <th>Test 21</th>\n",
       "      <td>12.944</td>\n",
       "      <td>23.894</td>\n",
       "    </tr>\n",
       "    <tr>\n",
       "      <th>Test 22</th>\n",
       "      <td>14.233</td>\n",
       "      <td>17.960</td>\n",
       "    </tr>\n",
       "    <tr>\n",
       "      <th>Test 23</th>\n",
       "      <td>19.710</td>\n",
       "      <td>22.058</td>\n",
       "    </tr>\n",
       "    <tr>\n",
       "      <th>Test 24</th>\n",
       "      <td>16.004</td>\n",
       "      <td>21.157</td>\n",
       "    </tr>\n",
       "  </tbody>\n",
       "</table>\n",
       "</div>"
      ],
      "text/plain": [
       "         Congruent  Incongruent\n",
       "Test 1      12.079       19.278\n",
       "Test 2      16.791       18.741\n",
       "Test 3       9.564       21.214\n",
       "Test 4       8.630       15.687\n",
       "Test 5      14.669       22.803\n",
       "Test 6      12.238       20.878\n",
       "Test 7      14.692       24.572\n",
       "Test 8       8.987       17.394\n",
       "Test 9       9.401       20.762\n",
       "Test 10     14.480       26.282\n",
       "Test 11     22.328       24.524\n",
       "Test 12     15.298       18.644\n",
       "Test 13     15.073       17.510\n",
       "Test 14     16.929       20.330\n",
       "Test 15     18.200       35.255\n",
       "Test 16     12.130       22.158\n",
       "Test 17     18.495       25.139\n",
       "Test 18     10.639       20.429\n",
       "Test 19     11.344       17.425\n",
       "Test 20     12.369       34.288\n",
       "Test 21     12.944       23.894\n",
       "Test 22     14.233       17.960\n",
       "Test 23     19.710       22.058\n",
       "Test 24     16.004       21.157"
      ]
     },
     "execution_count": 3,
     "metadata": {},
     "output_type": "execute_result"
    }
   ],
   "source": [
    "stroop_data = pd.read_csv(r'C:\\\\Users\\\\VANI\\\\Desktop\\\\stroopdata.csv')\n",
    "\n",
    "print(stroop_data.info())\n",
    "print('\\nNumber of NaN values: ', stroop_data.isnull().sum().sum())\n",
    "print('\\n', stroop_data.columns)\n",
    "\n",
    "for e in range(stroop_data.shape[0]):\n",
    "    stroop_data.rename(index = {e : 'Test ' + str(e+1)}, inplace = True)\n",
    "stroop_data"
   ]
  },
  {
   "cell_type": "markdown",
   "metadata": {},
   "source": [
    "## Question 1: What is our independent variable? What is our dependent variable?\n",
    "\n",
    "The **independent variable** is the kind of test performed on the participant i.e. congruent or incongruent. \n",
    "The **dependent variable** is the time taken to complete each test."
   ]
  },
  {
   "cell_type": "code",
   "execution_count": 4,
   "metadata": {},
   "outputs": [
    {
     "data": {
      "image/png": "[encoded data removed]",
      "text/plain": [
       "<Figure size 432x288 with 1 Axes>"
      ]
     },
     "metadata": {
      "needs_background": "light"
     },
     "output_type": "display_data"
    }
   ],
   "source": [
    "# Visualising data for congruent test results via a histogram\n",
    "bins = np.arange(0, stroop_data['Congruent'].max()+5, step = 4)\n",
    "plt.xlabel('Time Taken in seconds')\n",
    "plt.ylabel('Frequency')\n",
    "plt.hist(data = stroop_data, x = 'Congruent', bins = bins, color = 'red', alpha = 1/4);"
   ]
  },
  {
   "cell_type": "markdown",
   "metadata": {},
   "source": [
    "## Observations:\n",
    "\n",
    "Time taken ranges between **7 and 24 seconds**\n",
    "\n",
    "Majority of the candidates took **12-16 seconds** to complete the congruent images test\n",
    "\n",
    "The data is **normally distributed**"
   ]
  },
  {
   "cell_type": "code",
   "execution_count": 5,
   "metadata": {
    "scrolled": true
   },
   "outputs": [
    {
     "data": {
      "image/png": "[encoded data removed]",
      "text/plain": [
       "<Figure size 432x288 with 1 Axes>"
      ]
     },
     "metadata": {
      "needs_background": "light"
     },
     "output_type": "display_data"
    }
   ],
   "source": [
    "# Visualising data for incongruent test results via a histogram \n",
    "bins = np.arange(0, stroop_data['Incongruent'].max()+5, step = 4)\n",
    "plt.xlabel('Time Taken in seconds')\n",
    "plt.ylabel('Frequency')\n",
    "plt.hist(data = stroop_data, x = 'Incongruent', bins = bins, color = 'red', alpha = 1/4);"
   ]
  },
  {
   "cell_type": "markdown",
   "metadata": {},
   "source": [
    "## Observations:\n",
    "\n",
    "The time taken ranges from **12 to 36 seconds**\n",
    "\n",
    "Majority candidates took **20-24 seconds** to complete the test on incongruent images\n",
    "\n",
    "The data is **normally distributed**"
   ]
  },
  {
   "cell_type": "code",
   "execution_count": 6,
   "metadata": {},
   "outputs": [
    {
     "name": "stderr",
     "output_type": "stream",
     "text": [
      "C:\\Users\\VANI\\Anaconda3\\lib\\site-packages\\scipy\\stats\\stats.py:1713: FutureWarning: Using a non-tuple sequence for multidimensional indexing is deprecated; use `arr[tuple(seq)]` instead of `arr[seq]`. In the future this will be interpreted as an array index, `arr[np.array(seq)]`, which will result either in an error or a different result.\n",
      "  return np.add.reduce(sorted[indexer] * weights, axis=axis) / sumval\n"
     ]
    },
    {
     "data": {
      "image/png": "[encoded data removed]",
      "text/plain": [
       "<Figure size 432x288 with 1 Axes>"
      ]
     },
     "metadata": {
      "needs_background": "light"
     },
     "output_type": "display_data"
    }
   ],
   "source": [
    "# Visualusing correlation between Congruent and Incongruent test results\n",
    "plt.xlabel('Congruent')\n",
    "plt.ylabel('Incongruent')\n",
    "plt.title('Scatter Plot for visualizing the correlation between Congruent and Incongruent timings')\n",
    "sb.regplot(y = stroop_data['Incongruent'], x = stroop_data['Congruent'], color = 'orange');"
   ]
  },
  {
   "cell_type": "markdown",
   "metadata": {},
   "source": [
    "## Observations\n",
    "\n",
    "There exists a net upward trend but the positive correlation is **very weak**. There are a number of subjects in the sample that have had deviation from the trend. Thus, by and large there is no such correlation and subjects with low congruent times may or may not have low incongruent times\n",
    "\n",
    "## Possible fallacy in the conclusion:\n",
    "\n",
    "The survey does not account for **lurking variables** like time of the day, age in years, stress level and so on. This may have impacted the trend. \n",
    "\n",
    "Also, the **sample size should have been bigger** to make a more definite conclusion\n",
    "\n"
   ]
  },
  {
   "cell_type": "code",
   "execution_count": 14,
   "metadata": {},
   "outputs": [
    {
     "name": "stdout",
     "output_type": "stream",
     "text": [
      "\u001b[32mDescriptive Statistics about the data\n",
      "\n",
      "Means:\n",
      " Congruent      14.051125\n",
      "Incongruent    22.015917\n",
      "dtype: float64\n",
      "\n",
      "Medians:\n",
      " Congruent      14.3565\n",
      "Incongruent    21.0175\n",
      "dtype: float64\n",
      "\u001b[0m\n"
     ]
    }
   ],
   "source": [
    "print(Fore.GREEN + \"Descriptive Statistics about the data\")\n",
    "# Based on the histogram, both the mean and median is predicted to be around 14-15s for congruent data and\n",
    "# 20-21s for incongruent data. They are expected to be nearly equal because of normal distribution\n",
    "print('\\nMeans:\\n',stroop_data.mean())\n",
    "print('\\nMedians:\\n',stroop_data.median())\n",
    "print(Style.RESET_ALL)"
   ]
  },
  {
   "cell_type": "markdown",
   "metadata": {},
   "source": [
    "As it can be observed, the predictions are correct"
   ]
  },
  {
   "cell_type": "code",
   "execution_count": null,
   "metadata": {},
   "outputs": [],
   "source": []
  }
 ],
 "metadata": {
  "kernelspec": {
   "display_name": "Python 3",
   "language": "python",
   "name": "python3"
  },
  "language_info": {
   "codemirror_mode": {
    "name": "ipython",
    "version": 3
   },
   "file_extension": ".py",
   "mimetype": "text/x-python",
   "name": "python",
   "nbconvert_exporter": "python",
   "pygments_lexer": "ipython3",
   "version": "3.7.0"
  }
 },
 "nbformat": 4,
 "nbformat_minor": 2
}
